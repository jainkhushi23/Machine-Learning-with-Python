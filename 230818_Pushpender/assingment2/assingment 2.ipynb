{
 "cells": [
  {
   "cell_type": "markdown",
   "metadata": {},
   "source": [
    "Q1"
   ]
  },
  {
   "cell_type": "markdown",
   "metadata": {},
   "source": [
    "importing libraries"
   ]
  },
  {
   "cell_type": "code",
   "execution_count": 2,
   "metadata": {},
   "outputs": [],
   "source": [
    "import numpy as np\n",
    "import matplotlib.pyplot as plt\n"
   ]
  },
  {
   "cell_type": "markdown",
   "metadata": {},
   "source": [
    "sigmoid funtion"
   ]
  },
  {
   "cell_type": "code",
   "execution_count": 3,
   "metadata": {},
   "outputs": [],
   "source": [
    "def sigmoid(x):\n",
    "    return 1/(1+np.exp(-x))"
   ]
  },
  {
   "cell_type": "markdown",
   "metadata": {},
   "source": [
    "Generating data set"
   ]
  },
  {
   "cell_type": "code",
   "execution_count": null,
   "metadata": {},
   "outputs": [],
   "source": [
    "rng=np.random.RandomState(10)\n",
    "x=2*rng.rand(50)\n",
    "y=5+2*x+rng.randn(50)\n",
    "m=x.shape[0] \n",
    "\n",
    "plt.plot(x,y,\"bo\")\n",
    "plt.xlim(0,2)\n",
    "plt.ylim(0,15)\n",
    "plt.show()"
   ]
  },
  {
   "cell_type": "markdown",
   "metadata": {},
   "source": [
    "COST FUNCTIONS"
   ]
  },
  {
   "cell_type": "markdown",
   "metadata": {},
   "source": [
    "1"
   ]
  },
  {
   "cell_type": "code",
   "execution_count": 61,
   "metadata": {},
   "outputs": [],
   "source": [
    "def cost1(x_hat, x):\n",
    "    cf1=(abs((x_hat-x))**3)/2\n",
    "    cff1=cf1.mean()\n",
    "    return cff1"
   ]
  },
  {
   "cell_type": "markdown",
   "metadata": {},
   "source": [
    "2"
   ]
  },
  {
   "cell_type": "code",
   "execution_count": 62,
   "metadata": {},
   "outputs": [],
   "source": [
    "def cost2(y_out,y):\n",
    "    cf2=(abs((y-y_out)**7)/2)\n",
    "    cff2=cf2.mean()\n",
    "    return cff2"
   ]
  },
  {
   "cell_type": "markdown",
   "metadata": {},
   "source": [
    "linear function"
   ]
  },
  {
   "cell_type": "code",
   "execution_count": 63,
   "metadata": {},
   "outputs": [],
   "source": [
    "def linear_function(y,w,b):\n",
    "    return w*y+b"
   ]
  },
  {
   "cell_type": "markdown",
   "metadata": {},
   "source": [
    "hypothesis 2"
   ]
  },
  {
   "cell_type": "code",
   "execution_count": 1,
   "metadata": {},
   "outputs": [],
   "source": [
    "def hyp2(a,c,x):\n",
    "    return a*(np.power(x,1/2))+c\n"
   ]
  },
  {
   "cell_type": "markdown",
   "metadata": {},
   "source": [
    "gradient descent"
   ]
  },
  {
   "cell_type": "markdown",
   "metadata": {},
   "source": [
    "1"
   ]
  },
  {
   "cell_type": "code",
   "execution_count": 65,
   "metadata": {},
   "outputs": [],
   "source": [
    "def gradient_descent_1(y, x, w, b, learning_rate):\n",
    "    x_hat = linear_function(y, w, b)\n",
    "    \n",
    "    dw = (3.0 / (2 * m)) * np.sum(np.multiply(y,np.multiply(abs(x_hat - x),(x_hat - x))))\n",
    "    db = (3.0 / (2 * m)) * np.sum(np.multiply(abs(x_hat - x),(x_hat - x)))\n",
    "    w -= learning_rate * dw\n",
    "    b -= learning_rate * db\n",
    "    return w, b\n"
   ]
  },
  {
   "cell_type": "markdown",
   "metadata": {},
   "source": [
    "2"
   ]
  },
  {
   "cell_type": "code",
   "execution_count": 66,
   "metadata": {},
   "outputs": [],
   "source": [
    "def gd2(x,y,a,c,learning_rate,m):\n",
    "    y_out=hyp2(a,c,x)\n",
    "    \n",
    "    da=(7/(2*m))*np.sum(np.multiply(np.multiply(abs(y-y_out)**5,(y-y_out)),-np.power(x,1/2)))\n",
    "    \n",
    "    dc=(7/(2*m))*np.sum(np.multiply(np.multiply((abs(y-y_out)**5),(y-y_out)),-1))\n",
    "    a=a-learning_rate*da\n",
    "    \n",
    "    c=c-learning_rate*dc\n",
    "    \n",
    "    return a,c\n"
   ]
  },
  {
   "cell_type": "markdown",
   "metadata": {},
   "source": [
    "implementation"
   ]
  },
  {
   "cell_type": "markdown",
   "metadata": {},
   "source": [
    "1"
   ]
  },
  {
   "cell_type": "code",
   "execution_count": null,
   "metadata": {},
   "outputs": [],
   "source": [
    "# Random Initialization\n",
    "w = np.random.randn(1)\n",
    "b = np.random.randn(1)\n",
    "\n",
    "# Hyperparameters\n",
    "learning_rate = 0.0006\n",
    "num_epochs = 1000000\n",
    "\n",
    "# Training loop\n",
    "L= []\n",
    "for i in range(num_epochs):\n",
    "    w, b = gradient_descent_1(y, x, w, b, learning_rate)\n",
    "    x_hat = linear_function(y, w, b)\n",
    "    l= cost1(x_hat, x)\n",
    "    L.append(l)\n",
    "\n",
    "    if (i % (num_epochs / 10)) == 0:\n",
    "        plt.scatter(y, x, label='Data')\n",
    "        plt.plot(y, x_hat, 'g--', label='Regression Line')\n",
    "        plt.show()\n"
   ]
  },
  {
   "cell_type": "markdown",
   "metadata": {},
   "source": [
    "result"
   ]
  },
  {
   "cell_type": "markdown",
   "metadata": {},
   "source": [
    "1"
   ]
  },
  {
   "cell_type": "code",
   "execution_count": null,
   "metadata": {},
   "outputs": [],
   "source": [
    "print(f\"value of w: {w}\")\n",
    "print(f\"value of b: {b}\")\n",
    "print(f\"line: x={w}y+{b}\")\n",
    "plt.plot(y,x,'bo')\n",
    "plt.plot(y,x_hat,'g--')\n",
    "plt.show()"
   ]
  },
  {
   "cell_type": "markdown",
   "metadata": {},
   "source": [
    "implementation 2 polynomial func"
   ]
  },
  {
   "cell_type": "code",
   "execution_count": null,
   "metadata": {},
   "outputs": [],
   "source": [
    "a=np.random.randn(1)\n",
    "B=np.random.randn(1)\n",
    "c=np.random.randn(1)\n",
    "d=np.random.randn(1)\n",
    "\n",
    "learning_rate=0.000005\n",
    "noche=1000000\n",
    "\n",
    "L1=[]\n",
    "\n",
    "\n",
    "for i in range(noche):\n",
    "    a,c= gd2(x,y,a,c,learning_rate,m)\n",
    "    y_out=hyp2(a,c,x)\n",
    "    L1.append(cost2(y_out,y))\n",
    "    \n",
    "    if (i%(noche/10))==0:\n",
    "        plt.plot(x,y,'bo')\n",
    "        plt.plot(x,y_out,'go')\n",
    "        plt.show()\n",
    "       "
   ]
  },
  {
   "cell_type": "markdown",
   "metadata": {},
   "source": [
    "result 2"
   ]
  },
  {
   "cell_type": "code",
   "execution_count": null,
   "metadata": {},
   "outputs": [],
   "source": [
    "print(f\"value of a: {a}\")\n",
    "print(f\"value of c: {c}\")\n",
    "print(f\"line: x={a}y+{c}\")\n",
    "plt.plot(x,y,'bo')\n",
    "plt.plot(x,y_out,'g--')\n",
    "plt.show()"
   ]
  },
  {
   "cell_type": "markdown",
   "metadata": {},
   "source": [
    "cost function v/s no. of iterations "
   ]
  },
  {
   "cell_type": "markdown",
   "metadata": {},
   "source": [
    "1"
   ]
  },
  {
   "cell_type": "code",
   "execution_count": null,
   "metadata": {},
   "outputs": [],
   "source": [
    "plt.plot(L,'r')\n",
    "plt.show()"
   ]
  },
  {
   "cell_type": "markdown",
   "metadata": {},
   "source": [
    "2"
   ]
  },
  {
   "cell_type": "code",
   "execution_count": null,
   "metadata": {},
   "outputs": [],
   "source": [
    "plt.plot(L1,'r')\n",
    "plt.show()"
   ]
  },
  {
   "cell_type": "code",
   "execution_count": 64,
   "metadata": {},
   "outputs": [
    {
     "data": {
      "text/plain": [
       "0.9901533755252291"
      ]
     },
     "execution_count": 64,
     "metadata": {},
     "output_type": "execute_result"
    }
   ],
   "source": [
    "def accuracy(x,x_hat):\n",
    "    total_sq = np.sum((x-np.mean(x))**2)\n",
    "    res=np.sum((x-x_hat)**2)\n",
    "    r2 =1-(res/total_sq)\n",
    "    return r2\n",
    "x_pred_custom_lin=np.multiply(y,w)+b\n",
    "r2_custom_lin=accuracy(x,x_pred_custom_lin)\n",
    "r2_custom_lin"
   ]
  }
 ],
 "metadata": {
  "kernelspec": {
   "display_name": "Python 3",
   "language": "python",
   "name": "python3"
  },
  "language_info": {
   "codemirror_mode": {
    "name": "ipython",
    "version": 3
   },
   "file_extension": ".py",
   "mimetype": "text/x-python",
   "name": "python",
   "nbconvert_exporter": "python",
   "pygments_lexer": "ipython3",
   "version": "3.12.1"
  }
 },
 "nbformat": 4,
 "nbformat_minor": 2
}
